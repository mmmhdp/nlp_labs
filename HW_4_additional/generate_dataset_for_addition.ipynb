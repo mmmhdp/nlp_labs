{
 "cells": [
  {
   "cell_type": "code",
   "execution_count": 30,
   "id": "c074fb36-9aeb-4785-a035-0fcc2d059463",
   "metadata": {},
   "outputs": [],
   "source": [
    "import random as rnd\n",
    "\n",
    "with open(\"add_reverse_target.txt\", \"w\") as istr: \n",
    "    one_digit = 1_000_000\n",
    "    two_digits = 1_000_000\n",
    "    three_digits = 1_000_000\n",
    "    combo = 1_000_000\n",
    "    amount = [one_digit, two_digits, three_digits, combo]\n",
    "    am_specific_range = [(0,10-1),(10,100-1),(100,1000-1),(-999,1000-1)]\n",
    "    for am, am_range in zip(amount, am_specific_range):\n",
    "        for _ in range(am):\n",
    "            a = abs(rnd.randint(*am_range ))\n",
    "            b = abs(rnd.randint(*am_range ))\n",
    "            s = a+b\n",
    "            sn = [c for c in str(s)]\n",
    "            sn.reverse()\n",
    "            s = \"\".join(sn)\n",
    "\n",
    "            template = \"{:<3}+{:<3}={:<4}|\\n\"\n",
    "            s = template.format(a,b,s)\n",
    "            istr.write(s)"
   ]
  },
  {
   "cell_type": "code",
   "execution_count": 1,
   "id": "1a155094-bcfe-46f2-9b98-63d57907a076",
   "metadata": {},
   "outputs": [],
   "source": [
    "import random as rnd\n",
    "\n",
    "with open(\"add.txt\", \"w\") as istr: \n",
    "    one_digit = 100\n",
    "    two_digits = 100\n",
    "    three_digits = 100\n",
    "    combo = 100\n",
    "    amount = [one_digit, two_digits, three_digits, combo]\n",
    "    am_specific_range = [(0,10-1),(10,100-1),(100,1000-1),(-999,1000-1)]\n",
    "    for am, am_range in zip(amount, am_specific_range):\n",
    "        for _ in range(am):\n",
    "            a = abs(rnd.randint(*am_range ))\n",
    "            b = abs(rnd.randint(*am_range ))\n",
    "            s = a+b\n",
    "            sn = [c for c in str(s)]\n",
    "            s = \"\".join(sn)\n",
    "\n",
    "            template = \"{:<3}+{:<3}={:<4}|\\n\"\n",
    "            s = template.format(a,b,s)\n",
    "            istr.write(s)"
   ]
  }
 ],
 "metadata": {
  "kernelspec": {
   "display_name": "Python 3 (ipykernel)",
   "language": "python",
   "name": "python3"
  },
  "language_info": {
   "codemirror_mode": {
    "name": "ipython",
    "version": 3
   },
   "file_extension": ".py",
   "mimetype": "text/x-python",
   "name": "python",
   "nbconvert_exporter": "python",
   "pygments_lexer": "ipython3",
   "version": "3.10.12"
  }
 },
 "nbformat": 4,
 "nbformat_minor": 5
}
