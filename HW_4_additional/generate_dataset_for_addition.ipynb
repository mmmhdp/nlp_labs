{
 "cells": [
  {
   "cell_type": "code",
   "execution_count": 1,
   "id": "c074fb36-9aeb-4785-a035-0fcc2d059463",
   "metadata": {},
   "outputs": [
    {
     "ename": "KeyboardInterrupt",
     "evalue": "",
     "output_type": "error",
     "traceback": [
      "\u001b[0;31m---------------------------------------------------------------------------\u001b[0m",
      "\u001b[0;31mKeyboardInterrupt\u001b[0m                         Traceback (most recent call last)",
      "Cell \u001b[0;32mIn[1], line 12\u001b[0m\n\u001b[1;32m     10\u001b[0m \u001b[38;5;28;01mfor\u001b[39;00m am, am_range \u001b[38;5;129;01min\u001b[39;00m \u001b[38;5;28mzip\u001b[39m(amount, am_specific_range):\n\u001b[1;32m     11\u001b[0m     \u001b[38;5;28;01mfor\u001b[39;00m _ \u001b[38;5;129;01min\u001b[39;00m \u001b[38;5;28mrange\u001b[39m(am):\n\u001b[0;32m---> 12\u001b[0m         a \u001b[38;5;241m=\u001b[39m \u001b[38;5;28mabs\u001b[39m(\u001b[43mrnd\u001b[49m\u001b[38;5;241;43m.\u001b[39;49m\u001b[43mrandint\u001b[49m\u001b[43m(\u001b[49m\u001b[38;5;241;43m*\u001b[39;49m\u001b[43mam_range\u001b[49m\u001b[43m \u001b[49m\u001b[43m)\u001b[49m)\n\u001b[1;32m     13\u001b[0m         b \u001b[38;5;241m=\u001b[39m \u001b[38;5;28mabs\u001b[39m(rnd\u001b[38;5;241m.\u001b[39mrandint(\u001b[38;5;241m*\u001b[39mam_range ))\n\u001b[1;32m     14\u001b[0m         s \u001b[38;5;241m=\u001b[39m a\u001b[38;5;241m+\u001b[39mb\n",
      "File \u001b[0;32m/usr/lib/python3.10/random.py:370\u001b[0m, in \u001b[0;36mRandom.randint\u001b[0;34m(self, a, b)\u001b[0m\n\u001b[1;32m    366\u001b[0m \u001b[38;5;28;01mdef\u001b[39;00m \u001b[38;5;21mrandint\u001b[39m(\u001b[38;5;28mself\u001b[39m, a, b):\n\u001b[1;32m    367\u001b[0m \u001b[38;5;250m    \u001b[39m\u001b[38;5;124;03m\"\"\"Return random integer in range [a, b], including both end points.\u001b[39;00m\n\u001b[1;32m    368\u001b[0m \u001b[38;5;124;03m    \"\"\"\u001b[39;00m\n\u001b[0;32m--> 370\u001b[0m     \u001b[38;5;28;01mreturn\u001b[39;00m \u001b[38;5;28;43mself\u001b[39;49m\u001b[38;5;241;43m.\u001b[39;49m\u001b[43mrandrange\u001b[49m\u001b[43m(\u001b[49m\u001b[43ma\u001b[49m\u001b[43m,\u001b[49m\u001b[43m \u001b[49m\u001b[43mb\u001b[49m\u001b[38;5;241;43m+\u001b[39;49m\u001b[38;5;241;43m1\u001b[39;49m\u001b[43m)\u001b[49m\n",
      "File \u001b[0;32m/usr/lib/python3.10/random.py:303\u001b[0m, in \u001b[0;36mRandom.randrange\u001b[0;34m(self, start, stop, step)\u001b[0m\n\u001b[1;32m    300\u001b[0m \u001b[38;5;66;03m# This code is a bit messy to make it fast for the\u001b[39;00m\n\u001b[1;32m    301\u001b[0m \u001b[38;5;66;03m# common case while still doing adequate error checking.\u001b[39;00m\n\u001b[1;32m    302\u001b[0m \u001b[38;5;28;01mtry\u001b[39;00m:\n\u001b[0;32m--> 303\u001b[0m     istart \u001b[38;5;241m=\u001b[39m \u001b[43m_index\u001b[49m\u001b[43m(\u001b[49m\u001b[43mstart\u001b[49m\u001b[43m)\u001b[49m\n\u001b[1;32m    304\u001b[0m \u001b[38;5;28;01mexcept\u001b[39;00m \u001b[38;5;167;01mTypeError\u001b[39;00m:\n\u001b[1;32m    305\u001b[0m     istart \u001b[38;5;241m=\u001b[39m \u001b[38;5;28mint\u001b[39m(start)\n",
      "\u001b[0;31mKeyboardInterrupt\u001b[0m: "
     ]
    }
   ],
   "source": [
    "import random as rnd\n",
    "\n",
    "with open(\"add_reverse_target.txt\", \"w\") as istr: \n",
    "    one_digit = 1_000_000\n",
    "    two_digits = 1_000_000\n",
    "    three_digits = 1_000_000\n",
    "    combo = 1_000_000\n",
    "    amount = [one_digit, two_digits, three_digits, combo]\n",
    "    am_specific_range = [(0,10-1),(10,100-1),(100,1000-1),(-999,1000-1)]\n",
    "    for am, am_range in zip(amount, am_specific_range):\n",
    "        for _ in range(am):\n",
    "            a = abs(rnd.randint(*am_range ))\n",
    "            b = abs(rnd.randint(*am_range ))\n",
    "            s = a+b\n",
    "            sn = [c for c in str(s)]\n",
    "            sn.reverse()\n",
    "            s = \"\".join(sn)\n",
    "\n",
    "            template = \"{:.<3}+{:.<3}={:.<4}|\\n\"\n",
    "            s = template.format(a,b,s)\n",
    "            istr.write(s)"
   ]
  },
  {
   "cell_type": "code",
   "execution_count": 1,
   "id": "1a155094-bcfe-46f2-9b98-63d57907a076",
   "metadata": {},
   "outputs": [],
   "source": [
    "import random as rnd\n",
    "\n",
    "with open(\"add.txt\", \"w\") as istr: \n",
    "    one_digit = 100\n",
    "    two_digits = 100\n",
    "    three_digits = 100\n",
    "    combo = 100\n",
    "    amount = [one_digit, two_digits, three_digits, combo]\n",
    "    am_specific_range = [(0,10-1),(10,100-1),(100,1000-1),(-999,1000-1)]\n",
    "    for am, am_range in zip(amount, am_specific_range):\n",
    "        for _ in range(am):\n",
    "            a = abs(rnd.randint(*am_range ))\n",
    "            b = abs(rnd.randint(*am_range ))\n",
    "            s = a+b\n",
    "            sn = [c for c in str(s)]\n",
    "            s = \"\".join(sn)\n",
    "\n",
    "            template = \"{:<3}+{:<3}={:<4}|\\n\"\n",
    "            s = template.format(a,b,s)\n",
    "            istr.write(s)"
   ]
  }
 ],
 "metadata": {
  "kernelspec": {
   "display_name": "Python 3 (ipykernel)",
   "language": "python",
   "name": "python3"
  },
  "language_info": {
   "codemirror_mode": {
    "name": "ipython",
    "version": 3
   },
   "file_extension": ".py",
   "mimetype": "text/x-python",
   "name": "python",
   "nbconvert_exporter": "python",
   "pygments_lexer": "ipython3",
   "version": "3.10.12"
  }
 },
 "nbformat": 4,
 "nbformat_minor": 5
}
