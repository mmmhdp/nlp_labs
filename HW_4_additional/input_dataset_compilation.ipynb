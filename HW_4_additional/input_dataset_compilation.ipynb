{
 "cells": [
  {
   "cell_type": "code",
   "execution_count": 15,
   "id": "e86339d7-19cd-4384-8f9e-6cca71719854",
   "metadata": {},
   "outputs": [],
   "source": [
    "import requests\n",
    "from bs4 import BeautifulSoup\n",
    "with open(\"url_list.txt\",\"r\") as irl_f:\n",
    "    with open(\"input.txt\",\"w\") as out_f:\n",
    "        for url in irl_f.readlines():\n",
    "            try:\n",
    "                response = requests.get(url)\n",
    "            except Exception:\n",
    "               print(f\"invalid url: {url}\")\n",
    "                \n",
    "            if response.status_code == 200:\n",
    "                raw_html = response.content \n",
    "                html = BeautifulSoup(raw_html, 'html.parser')\n",
    "                valid_text = \" \".join([s for s in html.strings][10:-10])\n",
    "                out_f.write(valid_text)\n",
    "            else:\n",
    "               print(f\"invalid url data: {url}\") "
   ]
  },
  {
   "cell_type": "code",
   "execution_count": 17,
   "id": "804eaca0-08cd-4f72-af47-24b6576d9282",
   "metadata": {},
   "outputs": [
    {
     "name": "stdout",
     "output_type": "stream",
     "text": [
      "165775\n"
     ]
    }
   ],
   "source": [
    "with open(\"input.txt\") as fin:\n",
    "    data = fin.read()\n",
    "    print(len(data.split()))"
   ]
  },
  {
   "cell_type": "code",
   "execution_count": 19,
   "id": "613b1599-ba5e-48a5-8f72-998f72b3fa38",
   "metadata": {},
   "outputs": [],
   "source": [
    "with open(\"input.txt\", \"a\") as fout:\n",
    "    with open(\"dialogues.txt\") as diaf:\n",
    "        with open(\"one_more.txt\") as omf:\n",
    "            diaf_data = diaf.read()\n",
    "            omf_data = omf.read()\n",
    "            fout.write(diaf_data)\n",
    "            fout.write(omf_data)"
   ]
  },
  {
   "cell_type": "code",
   "execution_count": 20,
   "id": "3f3d1ba0-7c0a-47f2-9e39-2f2969b684cc",
   "metadata": {},
   "outputs": [
    {
     "name": "stdout",
     "output_type": "stream",
     "text": [
      "15676048\n"
     ]
    }
   ],
   "source": [
    "with open(\"input.txt\") as fin:\n",
    "    data = fin.read()\n",
    "    print(len(data.split()))"
   ]
  },
  {
   "cell_type": "code",
   "execution_count": null,
   "id": "2f6a85b7-0650-4eca-a037-3d61af492fbc",
   "metadata": {},
   "outputs": [],
   "source": []
  }
 ],
 "metadata": {
  "kernelspec": {
   "display_name": "Python 3 (ipykernel)",
   "language": "python",
   "name": "python3"
  },
  "language_info": {
   "codemirror_mode": {
    "name": "ipython",
    "version": 3
   },
   "file_extension": ".py",
   "mimetype": "text/x-python",
   "name": "python",
   "nbconvert_exporter": "python",
   "pygments_lexer": "ipython3",
   "version": "3.10.12"
  }
 },
 "nbformat": 4,
 "nbformat_minor": 5
}
